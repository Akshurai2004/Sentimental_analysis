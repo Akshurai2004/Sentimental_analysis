{
 "cells": [
  {
   "cell_type": "code",
   "execution_count": null,
   "id": "a1284b58",
   "metadata": {},
   "outputs": [
    {
     "name": "stderr",
     "output_type": "stream",
     "text": [
      "I0000 00:00:1755692138.029883   18500 gl_context_egl.cc:85] Successfully initialized EGL. Major : 1 Minor: 5\n",
      "I0000 00:00:1755692138.033934   25275 gl_context.cc:369] GL version: 3.2 (OpenGL ES 3.2 Mesa 24.2.8-1ubuntu1~24.04.1), renderer: Mesa Intel(R) UHD Graphics (TGL GT1)\n",
      "W0000 00:00:1755692138.162936   25267 inference_feedback_manager.cc:114] Feedback manager requires a model with a single signature inference. Disabling support for feedback tensors.\n",
      "W0000 00:00:1755692138.238454   25271 inference_feedback_manager.cc:114] Feedback manager requires a model with a single signature inference. Disabling support for feedback tensors.\n"
     ]
    }
   ],
   "source": [
    "import cv2\n",
    "import mediapipe as mp\n",
    "from collections import deque\n",
    "import numpy as np\n",
    "from deepface import DeepFace\n",
    "\n",
    "# ---------------- Pose Setup ----------------\n",
    "mp_pose = mp.solutions.pose\n",
    "pose = mp_pose.Pose(min_detection_confidence=0.5, min_tracking_confidence=0.5)\n",
    "mp_drawing = mp.solutions.drawing_utils\n",
    "\n",
    "history = deque(maxlen=5)\n",
    "\n",
    "def get_posture_score(landmarks):\n",
    "    left_shoulder = landmarks[11]\n",
    "    right_shoulder = landmarks[12]\n",
    "    left_hip = landmarks[23]\n",
    "    right_hip = landmarks[24]\n",
    "\n",
    "    shoulder_y = (left_shoulder.y + right_shoulder.y) / 2\n",
    "    hip_y = (left_hip.y + right_hip.y) / 2\n",
    "\n",
    "    upright_ratio = max(0, min(1, 1 - abs(shoulder_y - hip_y)))\n",
    "    return upright_ratio * 100\n",
    "\n",
    "def torso_movement(landmarks, prev_landmarks):\n",
    "    if prev_landmarks is None:\n",
    "        return 0\n",
    "    keypoints = [11, 12, 23, 24]  # shoulders and hips\n",
    "    movement = 0\n",
    "    for kp in keypoints:\n",
    "        dx = landmarks[kp].x - prev_landmarks[kp].x\n",
    "        dy = landmarks[kp].y - prev_landmarks[kp].y\n",
    "        movement += np.sqrt(dx**2 + dy**2)\n",
    "    return movement / len(keypoints)\n",
    "\n",
    "prev_landmarks = None\n",
    "movement_threshold = 0.005\n",
    "\n",
    "cap = cv2.VideoCapture(0)\n",
    "\n",
    "while True:\n",
    "    ret, frame = cap.read()\n",
    "    if not ret:\n",
    "        break\n",
    "\n",
    "    rgb_frame = cv2.cvtColor(frame, cv2.COLOR_BGR2RGB)\n",
    "    results = pose.process(rgb_frame)\n",
    "\n",
    "    # ---------------- Pose & Engagement ----------------\n",
    "    if results.pose_landmarks:\n",
    "        landmarks = results.pose_landmarks.landmark\n",
    "\n",
    "        posture_score = get_posture_score(landmarks)\n",
    "        move_score = torso_movement(landmarks, prev_landmarks)\n",
    "\n",
    "        history.append(posture_score)\n",
    "        avg_posture = sum(history) / len(history)\n",
    "\n",
    "        if move_score < movement_threshold:\n",
    "            engagement_text = \"No Engagement\"\n",
    "        else:\n",
    "            engagement_value = max(0, min(100, avg_posture + 10))\n",
    "            engagement_text = f\"Engagement: {engagement_value:.1f}%\"\n",
    "\n",
    "        mp_drawing.draw_landmarks(frame, results.pose_landmarks, mp_pose.POSE_CONNECTIONS)\n",
    "        cv2.putText(frame, engagement_text, (30, 50),\n",
    "                    cv2.FONT_HERSHEY_SIMPLEX, 1, (0, 255, 0), 2)\n",
    "\n",
    "        prev_landmarks = landmarks\n",
    "    else:\n",
    "        cv2.putText(frame, \"No person detected\",\n",
    "                    (30, 50), cv2.FONT_HERSHEY_SIMPLEX, 1, (0, 0, 255), 2)\n",
    "        prev_landmarks = None\n",
    "\n",
    "    # ---------------- Emotion Detection (DeepFace) ----------------\n",
    "    try:\n",
    "        analysis = DeepFace.analyze(frame, actions=['emotion'], enforce_detection=False)\n",
    "        dominant_emotion = analysis[0]['dominant_emotion']\n",
    "        cv2.putText(frame, f\"Emotion: {dominant_emotion}\", (30, 100),\n",
    "                    cv2.FONT_HERSHEY_SIMPLEX, 1, (255, 0, 0), 2)\n",
    "    except Exception as e:\n",
    "        cv2.putText(frame, \"Emotion: Not detected\", (30, 100),\n",
    "                    cv2.FONT_HERSHEY_SIMPLEX, 1, (255, 0, 0), 2)\n",
    "\n",
    "    # ---------------- Display ----------------\n",
    "    cv2.imshow(\"Engagement + Emotion Detection\", frame)\n",
    "    if cv2.waitKey(1) & 0xFF == ord('q'):\n",
    "        break\n",
    "\n",
    "cap.release()\n",
    "cv2.destroyAllWindows()\n"
   ]
  },
  {
   "cell_type": "code",
   "execution_count": null,
   "id": "35f941bf",
   "metadata": {},
   "outputs": [],
   "source": []
  },
  {
   "cell_type": "code",
   "execution_count": 12,
   "id": "5c4b03d9",
   "metadata": {},
   "outputs": [
    {
     "name": "stdout",
     "output_type": "stream",
     "text": [
      "2.1.3\n",
      "2.8.0+cu128\n",
      "4.55.2\n"
     ]
    }
   ],
   "source": [
    "import numpy\n",
    "import torch\n",
    "import transformers\n",
    "\n",
    "print(numpy.__version__)\n",
    "print(torch.__version__)\n",
    "print(transformers.__version__)\n",
    "\n"
   ]
  },
  {
   "cell_type": "code",
   "execution_count": null,
   "id": "21602424",
   "metadata": {},
   "outputs": [],
   "source": []
  }
 ],
 "metadata": {
  "kernelspec": {
   "display_name": "env",
   "language": "python",
   "name": "python3"
  },
  "language_info": {
   "codemirror_mode": {
    "name": "ipython",
    "version": 3
   },
   "file_extension": ".py",
   "mimetype": "text/x-python",
   "name": "python",
   "nbconvert_exporter": "python",
   "pygments_lexer": "ipython3",
   "version": "3.12.3"
  }
 },
 "nbformat": 4,
 "nbformat_minor": 5
}
